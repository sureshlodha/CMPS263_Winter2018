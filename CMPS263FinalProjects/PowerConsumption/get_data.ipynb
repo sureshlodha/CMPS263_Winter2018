{
 "cells": [
  {
   "cell_type": "code",
   "execution_count": 1,
   "metadata": {
    "collapsed": true
   },
   "outputs": [],
   "source": [
    "%reload_ext autoreload\n",
    "%autoreload 2\n",
    "import os\n",
    "import numpy as np\n",
    "import pandas as pd\n",
    "from collections import defaultdict\n",
    "from functools import reduce\n",
    "from datetime import timedelta, date, datetime\n",
    "from pytz import timezone"
   ]
  },
  {
   "cell_type": "markdown",
   "metadata": {},
   "source": [
    "* 3, 4 - oven (draws voltage from both 120 volt legs)\n",
    "* 5 - refrigerator \n",
    "* 6 - dishwasher\n",
    "* 7, 8, 15, 16 - kitchen_outlets \n",
    "* 9, 17, 18 - lighting \n",
    "* 10, 20 - washer_dryer (10 is the motor and 20 is the electric heating element)\n",
    "* 11 - microwave\n",
    "* 12 - bathroom ground fault interpreter\n",
    "* 13 - electric space heater\n",
    "* 14 - electric stove\n",
    "* 19 - not a washer dryer definitely\n"
   ]
  },
  {
   "cell_type": "code",
   "execution_count": 3,
   "metadata": {
    "collapsed": true
   },
   "outputs": [],
   "source": [
    "house_num =1 #5#1, 2, 6 "
   ]
  },
  {
   "cell_type": "code",
   "execution_count": 7,
   "metadata": {
    "scrolled": true
   },
   "outputs": [],
   "source": [
    "labels = get_labels(house_num);"
   ]
  },
  {
   "cell_type": "code",
   "execution_count": 8,
   "metadata": {
    "collapsed": true
   },
   "outputs": [],
   "source": [
    "def get_labels(house_num, PATH='data/low_freq/'): #reads the house_number's labels.dat and returns a dataframe\n",
    "    '''\n",
    "    input:\n",
    "        house_num (int)\n",
    "        channel_num (int)\n",
    "    return:\n",
    "        pandas.core.frame.DataFrame\n",
    "    '''\n",
    "    return pd.read_table(\"{0}house_{1}/labels.dat\".format(PATH, house_num), header=None, delim_whitespace=True,\n",
    "                         names=['channel', 'appliance'], dtype={'channel': np.int16, 'appliance': np.str})\n",
    "\n",
    "def get_channel_data(channel_num, house_num, as_csv=False):\n",
    "    '''\n",
    "    input: \n",
    "        labels (List[int])\n",
    "        channel_num (int)\n",
    "        house_num (int)\n",
    "        as_csv (bool)\n",
    "    return:\n",
    "        True if as_csv=True\n",
    "        pandas.core.frame.DataFrame if as_csv=False\n",
    "    '''\n",
    "    PATH = \"data/low_freq/house_{0}/channel_{1}\".format(house_num, channel_num)+'.dat'\n",
    "    labels = get_labels(house_num)\n",
    "    if as_csv:\n",
    "        ret_file = labels.loc[labels['channel'] == channel_num].iloc[0][1]\n",
    "        pd.read_table(PATH, header=None, delim_whitespace=True,\n",
    "                        names=['time_stamp', 'power'],\n",
    "                             dtype={'time_stamp': np.string_, 'power': np.float128}).to_csv(ret_file+'_data.csv')\n",
    "        return True\n",
    "    else:\n",
    "        return pd.read_table(PATH, header=None, delim_whitespace=True,\n",
    "                        names=['time_stamp', 'power_{0}'.format(labels.loc[labels['channel'] == channel_num].iloc[0][1])],\n",
    "                             dtype={'time_stamp': np.string_, 'power': np.float128})\n",
    "\n",
    "\n",
    "def merge_all(ch_nums, house_num):\n",
    "    full_data = get_channel_data(ch_nums[0], house_num)\n",
    "    for ch in ch_nums[1:]:\n",
    "        full_data = full_data.merge(get_channel_data(ch, house_num), how='inner', on=['time_stamp'])\n",
    "    return full_data\n",
    "\n",
    "\n",
    "#to_csv function\n",
    "def to_csv(df_list, house_num):\n",
    "    for df in df_list:\n",
    "        df.to_csv('data/house_{0}/hour_by_hour/'.format(house_num) + str(df.name) + '.csv') #change this to the corresponding house\n",
    "\n",
    "def daterange(start, end):\n",
    "    for n in range(int((end - start).days)):\n",
    "        yield start + timedelta(n)\n",
    "\n",
    "def grp_to_csv(grpby, day, house_num):\n",
    "    tdf = pd.DataFrame(grpby)\n",
    "    tdf.index = tdf.index.map(lambda x: pd.to_datetime(x).hour)\n",
    "    tdf.to_csv('data/house_{0}/dayhour/day_'.format(house_num) + '{0}'.format(day) + '.csv')\n",
    "\n",
    "def get_dayhour(df, start_date, end_date, house_num):\n",
    "    day = 1\n",
    "    for d in daterange(start_date, end_date):\n",
    "        grp_to_csv(df.groupby(pd.Grouper(freq='D')).get_group(d), day, house_num)\n",
    "        day += 1"
   ]
  },
  {
   "cell_type": "markdown",
   "metadata": {},
   "source": [
    "* 3, 4 - oven (draws voltage from both 120 volt legs)\n",
    "* 5 - refrigerator \n",
    "* 6 - dishwasher\n",
    "* 7, 8, 15, 16 - kitchen_outlets \n",
    "* 9, 17, 18 - lighting \n",
    "* 10, 20 - washer_dryer (10 is the motor and 20 is the electric heating element)\n",
    "* 11 - microwave\n",
    "* 12 - bathroom ground fault interpreter\n",
    "* 13 - electric space heater\n",
    "* 14 - electric stove\n",
    "* 19 - not a washer dryer definitely\n"
   ]
  },
  {
   "cell_type": "code",
   "execution_count": 81,
   "metadata": {
    "collapsed": true
   },
   "outputs": [],
   "source": [
    "tmp = get_channel_data(12, 1) #channel_num, house_num"
   ]
  },
  {
   "cell_type": "code",
   "execution_count": 89,
   "metadata": {
    "collapsed": true
   },
   "outputs": [],
   "source": [
    "house_num = 1\n",
    "ch_nums = [3, 4, 5, 6, 7, 8, 9, 17, 18, 10, 20, 11, 13, 14] #refrigerator, dishwasher, microwave, elec_heat, stove house_1\n",
    "#ch_nums = [9, 10, 6, 4, 5] #refrigerator, dishwasher, microwave, lighting, stove house_2\n",
    "#ch_nums = [8, 9, 4, 12, 5] #refrigerator, dishwasher, washer_dryer, elec_heat, stove house_6\n",
    "full_data = merge_all(ch_nums, house_num) #merges all required channels of a house"
   ]
  },
  {
   "cell_type": "code",
   "execution_count": null,
   "metadata": {
    "collapsed": true
   },
   "outputs": [],
   "source": [
    "full_data['time_stamp'] = pd.to_datetime(full_data['time_stamp'], unit='s') #converts to datetime"
   ]
  },
  {
   "cell_type": "code",
   "execution_count": 90,
   "metadata": {
    "collapsed": true
   },
   "outputs": [],
   "source": [
    "#get_channel_data(15, 1)['power_kitchen_outlets']\n",
    "full_data['power_kitchen_outlets_x_1'] = get_channel_data(15, 1)['power_kitchen_outlets']\n",
    "full_data['power_kitchen_outlets_y_1'] = get_channel_data(16, 1)['power_kitchen_outlets']"
   ]
  },
  {
   "cell_type": "code",
   "execution_count": null,
   "metadata": {
    "collapsed": true
   },
   "outputs": [],
   "source": [
    "print(full_data.keys())\n",
    "max(full_data['power_kitchen_outlets_x_1'])"
   ]
  },
  {
   "cell_type": "code",
   "execution_count": 91,
   "metadata": {
    "collapsed": true,
    "scrolled": true
   },
   "outputs": [],
   "source": [
    "fd = pd.DataFrame()\n",
    "fd['time_stamp'] = full_data['time_stamp']\n",
    "#fd['oven'] = full_data['power_oven_x'] + full_data['power_oven_x']\n",
    "fd['refrigerator'] = full_data['power_refrigerator']\n",
    "fd['dish'] = full_data['power_dishwaser']\n",
    "fd['kitchen'] = full_data['power_kitchen_outlets_x'] + full_data['power_kitchen_outlets_y'] + full_data['power_kitchen_outlets_x_1'] + full_data['power_kitchen_outlets_y_1'] + full_data['power_oven_x'] + full_data['power_oven_x'] + full_data['power_stove']\n",
    "fd['lighting'] = full_data['power_lighting'] + full_data['power_lighting_x'] + full_data['power_lighting_y']\n",
    "fd['washer'] = full_data['power_washer_dryer_x'] + full_data['power_washer_dryer_y']\n",
    "fd['microwave'] = full_data['power_microwave']\n",
    "#fd['elecheat'] = full_data['power_electric_heat']\n",
    "#fd['stove'] = full_data['power_stove']\n"
   ]
  },
  {
   "cell_type": "code",
   "execution_count": 93,
   "metadata": {},
   "outputs": [],
   "source": [
    "fd['time_stamp'] = pd.to_datetime(fd['time_stamp'], unit='s').dt.tz_localize('UTC').dt.tz_convert('US/Pacific').apply(lambda x: datetime(x.year, x.month, x.day, x.hour, x.minute, x.second))"
   ]
  },
  {
   "cell_type": "code",
   "execution_count": 94,
   "metadata": {},
   "outputs": [
    {
     "data": {
      "text/html": [
       "<div>\n",
       "<style>\n",
       "    .dataframe thead tr:only-child th {\n",
       "        text-align: right;\n",
       "    }\n",
       "\n",
       "    .dataframe thead th {\n",
       "        text-align: left;\n",
       "    }\n",
       "\n",
       "    .dataframe tbody tr th {\n",
       "        vertical-align: top;\n",
       "    }\n",
       "</style>\n",
       "<table border=\"1\" class=\"dataframe\">\n",
       "  <thead>\n",
       "    <tr style=\"text-align: right;\">\n",
       "      <th></th>\n",
       "      <th>time_stamp</th>\n",
       "      <th>refrigerator</th>\n",
       "      <th>dish</th>\n",
       "      <th>kitchen</th>\n",
       "      <th>lighting</th>\n",
       "      <th>washer</th>\n",
       "      <th>microwave</th>\n",
       "    </tr>\n",
       "  </thead>\n",
       "  <tbody>\n",
       "    <tr>\n",
       "      <th>0</th>\n",
       "      <td>2011-04-18 06:22:13</td>\n",
       "      <td>6.0</td>\n",
       "      <td>0.0</td>\n",
       "      <td>57.0</td>\n",
       "      <td>192.0</td>\n",
       "      <td>0.0</td>\n",
       "      <td>5.0</td>\n",
       "    </tr>\n",
       "    <tr>\n",
       "      <th>1</th>\n",
       "      <td>2011-04-18 06:22:16</td>\n",
       "      <td>6.0</td>\n",
       "      <td>0.0</td>\n",
       "      <td>57.0</td>\n",
       "      <td>192.0</td>\n",
       "      <td>0.0</td>\n",
       "      <td>5.0</td>\n",
       "    </tr>\n",
       "    <tr>\n",
       "      <th>2</th>\n",
       "      <td>2011-04-18 06:22:20</td>\n",
       "      <td>6.0</td>\n",
       "      <td>0.0</td>\n",
       "      <td>58.0</td>\n",
       "      <td>192.0</td>\n",
       "      <td>0.0</td>\n",
       "      <td>5.0</td>\n",
       "    </tr>\n",
       "    <tr>\n",
       "      <th>3</th>\n",
       "      <td>2011-04-18 06:22:23</td>\n",
       "      <td>6.0</td>\n",
       "      <td>1.0</td>\n",
       "      <td>57.0</td>\n",
       "      <td>192.0</td>\n",
       "      <td>0.0</td>\n",
       "      <td>5.0</td>\n",
       "    </tr>\n",
       "    <tr>\n",
       "      <th>4</th>\n",
       "      <td>2011-04-18 06:22:26</td>\n",
       "      <td>6.0</td>\n",
       "      <td>0.0</td>\n",
       "      <td>57.0</td>\n",
       "      <td>192.0</td>\n",
       "      <td>0.0</td>\n",
       "      <td>5.0</td>\n",
       "    </tr>\n",
       "  </tbody>\n",
       "</table>\n",
       "</div>"
      ],
      "text/plain": [
       "           time_stamp  refrigerator  dish  kitchen  lighting  washer  \\\n",
       "0 2011-04-18 06:22:13           6.0   0.0     57.0     192.0     0.0   \n",
       "1 2011-04-18 06:22:16           6.0   0.0     57.0     192.0     0.0   \n",
       "2 2011-04-18 06:22:20           6.0   0.0     58.0     192.0     0.0   \n",
       "3 2011-04-18 06:22:23           6.0   1.0     57.0     192.0     0.0   \n",
       "4 2011-04-18 06:22:26           6.0   0.0     57.0     192.0     0.0   \n",
       "\n",
       "   microwave  \n",
       "0        5.0  \n",
       "1        5.0  \n",
       "2        5.0  \n",
       "3        5.0  \n",
       "4        5.0  "
      ]
     },
     "execution_count": 94,
     "metadata": {},
     "output_type": "execute_result"
    }
   ],
   "source": [
    "fd.head()"
   ]
  },
  {
   "cell_type": "code",
   "execution_count": 95,
   "metadata": {
    "collapsed": true
   },
   "outputs": [],
   "source": [
    "day_by_day = fd.resample(rule='D', on='time_stamp').sum() #aggregation by day\n",
    "#day_by_day = full_data.resample(rule='D', on='time_stamp').sum() #aggregation by day"
   ]
  },
  {
   "cell_type": "code",
   "execution_count": 96,
   "metadata": {},
   "outputs": [
    {
     "data": {
      "text/html": [
       "<div>\n",
       "<style>\n",
       "    .dataframe thead tr:only-child th {\n",
       "        text-align: right;\n",
       "    }\n",
       "\n",
       "    .dataframe thead th {\n",
       "        text-align: left;\n",
       "    }\n",
       "\n",
       "    .dataframe tbody tr th {\n",
       "        vertical-align: top;\n",
       "    }\n",
       "</style>\n",
       "<table border=\"1\" class=\"dataframe\">\n",
       "  <thead>\n",
       "    <tr style=\"text-align: right;\">\n",
       "      <th></th>\n",
       "      <th>refrigerator</th>\n",
       "      <th>dish</th>\n",
       "      <th>kitchen</th>\n",
       "      <th>lighting</th>\n",
       "      <th>washer</th>\n",
       "      <th>microwave</th>\n",
       "    </tr>\n",
       "    <tr>\n",
       "      <th>time_stamp</th>\n",
       "      <th></th>\n",
       "      <th></th>\n",
       "      <th></th>\n",
       "      <th></th>\n",
       "      <th></th>\n",
       "      <th></th>\n",
       "    </tr>\n",
       "  </thead>\n",
       "  <tbody>\n",
       "    <tr>\n",
       "      <th>2011-04-18</th>\n",
       "      <td>998457.0</td>\n",
       "      <td>1108055.0</td>\n",
       "      <td>1803399.0</td>\n",
       "      <td>1503336.0</td>\n",
       "      <td>1113.5</td>\n",
       "      <td>539775.0</td>\n",
       "    </tr>\n",
       "    <tr>\n",
       "      <th>2011-04-19</th>\n",
       "      <td>1116447.0</td>\n",
       "      <td>1198.0</td>\n",
       "      <td>1157629.0</td>\n",
       "      <td>2358940.0</td>\n",
       "      <td>630.0</td>\n",
       "      <td>411167.0</td>\n",
       "    </tr>\n",
       "    <tr>\n",
       "      <th>2011-04-20</th>\n",
       "      <td>1097970.0</td>\n",
       "      <td>793.0</td>\n",
       "      <td>1234689.0</td>\n",
       "      <td>1766586.0</td>\n",
       "      <td>36.5</td>\n",
       "      <td>535087.0</td>\n",
       "    </tr>\n",
       "    <tr>\n",
       "      <th>2011-04-21</th>\n",
       "      <td>1105265.0</td>\n",
       "      <td>1481.0</td>\n",
       "      <td>1088088.0</td>\n",
       "      <td>1309990.0</td>\n",
       "      <td>187.0</td>\n",
       "      <td>377186.0</td>\n",
       "    </tr>\n",
       "    <tr>\n",
       "      <th>2011-04-22</th>\n",
       "      <td>993582.0</td>\n",
       "      <td>792.0</td>\n",
       "      <td>1182754.0</td>\n",
       "      <td>1288460.0</td>\n",
       "      <td>17.5</td>\n",
       "      <td>138326.0</td>\n",
       "    </tr>\n",
       "  </tbody>\n",
       "</table>\n",
       "</div>"
      ],
      "text/plain": [
       "            refrigerator       dish    kitchen   lighting  washer  microwave\n",
       "time_stamp                                                                  \n",
       "2011-04-18      998457.0  1108055.0  1803399.0  1503336.0  1113.5   539775.0\n",
       "2011-04-19     1116447.0     1198.0  1157629.0  2358940.0   630.0   411167.0\n",
       "2011-04-20     1097970.0      793.0  1234689.0  1766586.0    36.5   535087.0\n",
       "2011-04-21     1105265.0     1481.0  1088088.0  1309990.0   187.0   377186.0\n",
       "2011-04-22      993582.0      792.0  1182754.0  1288460.0    17.5   138326.0"
      ]
     },
     "execution_count": 96,
     "metadata": {},
     "output_type": "execute_result"
    }
   ],
   "source": [
    "day_by_day.head()"
   ]
  },
  {
   "cell_type": "code",
   "execution_count": 97,
   "metadata": {
    "collapsed": true
   },
   "outputs": [],
   "source": [
    "day_by_day.to_csv('data/house_1/day_by_day/day_by_day_house_1.csv') #daybyday for stacked bar"
   ]
  },
  {
   "cell_type": "code",
   "execution_count": 98,
   "metadata": {},
   "outputs": [
    {
     "data": {
      "text/plain": [
       "refrigerator    42301545.0\n",
       "dish            18246649.0\n",
       "kitchen         50977384.0\n",
       "lighting        57485182.0\n",
       "washer          30206552.0\n",
       "microwave       15679973.0\n",
       "dtype: float64"
      ]
     },
     "execution_count": 98,
     "metadata": {},
     "output_type": "execute_result"
    }
   ],
   "source": [
    "day_by_day.sum(axis=0)"
   ]
  },
  {
   "cell_type": "code",
   "execution_count": 99,
   "metadata": {
    "collapsed": true
   },
   "outputs": [],
   "source": [
    "hour_by_hour = fd.resample(rule='H', on='time_stamp').sum() #aggregation by hour\n",
    "#hour_by_hour = full_data.resample(rule='H', on='time_stamp').sum() #aggregation by hour"
   ]
  },
  {
   "cell_type": "code",
   "execution_count": 100,
   "metadata": {},
   "outputs": [
    {
     "data": {
      "text/html": [
       "<div>\n",
       "<style>\n",
       "    .dataframe thead tr:only-child th {\n",
       "        text-align: right;\n",
       "    }\n",
       "\n",
       "    .dataframe thead th {\n",
       "        text-align: left;\n",
       "    }\n",
       "\n",
       "    .dataframe tbody tr th {\n",
       "        vertical-align: top;\n",
       "    }\n",
       "</style>\n",
       "<table border=\"1\" class=\"dataframe\">\n",
       "  <thead>\n",
       "    <tr style=\"text-align: right;\">\n",
       "      <th></th>\n",
       "      <th>refrigerator</th>\n",
       "      <th>dish</th>\n",
       "      <th>kitchen</th>\n",
       "      <th>lighting</th>\n",
       "      <th>washer</th>\n",
       "      <th>microwave</th>\n",
       "    </tr>\n",
       "    <tr>\n",
       "      <th>time_stamp</th>\n",
       "      <th></th>\n",
       "      <th></th>\n",
       "      <th></th>\n",
       "      <th></th>\n",
       "      <th></th>\n",
       "      <th></th>\n",
       "    </tr>\n",
       "  </thead>\n",
       "  <tbody>\n",
       "    <tr>\n",
       "      <th>2011-04-18 06:00:00</th>\n",
       "      <td>3563.0</td>\n",
       "      <td>113.0</td>\n",
       "      <td>31959.0</td>\n",
       "      <td>98552.0</td>\n",
       "      <td>4.5</td>\n",
       "      <td>2662.0</td>\n",
       "    </tr>\n",
       "    <tr>\n",
       "      <th>2011-04-18 07:00:00</th>\n",
       "      <td>134014.0</td>\n",
       "      <td>425.0</td>\n",
       "      <td>42840.0</td>\n",
       "      <td>96306.0</td>\n",
       "      <td>36.0</td>\n",
       "      <td>27448.0</td>\n",
       "    </tr>\n",
       "    <tr>\n",
       "      <th>2011-04-18 08:00:00</th>\n",
       "      <td>116762.0</td>\n",
       "      <td>8.0</td>\n",
       "      <td>41431.0</td>\n",
       "      <td>78320.0</td>\n",
       "      <td>2.5</td>\n",
       "      <td>75297.0</td>\n",
       "    </tr>\n",
       "    <tr>\n",
       "      <th>2011-04-18 09:00:00</th>\n",
       "      <td>54328.0</td>\n",
       "      <td>10.0</td>\n",
       "      <td>40392.0</td>\n",
       "      <td>45597.0</td>\n",
       "      <td>0.0</td>\n",
       "      <td>3732.0</td>\n",
       "    </tr>\n",
       "    <tr>\n",
       "      <th>2011-04-18 10:00:00</th>\n",
       "      <td>46438.0</td>\n",
       "      <td>8.0</td>\n",
       "      <td>39124.0</td>\n",
       "      <td>2409.0</td>\n",
       "      <td>0.0</td>\n",
       "      <td>3620.0</td>\n",
       "    </tr>\n",
       "  </tbody>\n",
       "</table>\n",
       "</div>"
      ],
      "text/plain": [
       "                     refrigerator   dish  kitchen  lighting  washer  microwave\n",
       "time_stamp                                                                    \n",
       "2011-04-18 06:00:00        3563.0  113.0  31959.0   98552.0     4.5     2662.0\n",
       "2011-04-18 07:00:00      134014.0  425.0  42840.0   96306.0    36.0    27448.0\n",
       "2011-04-18 08:00:00      116762.0    8.0  41431.0   78320.0     2.5    75297.0\n",
       "2011-04-18 09:00:00       54328.0   10.0  40392.0   45597.0     0.0     3732.0\n",
       "2011-04-18 10:00:00       46438.0    8.0  39124.0    2409.0     0.0     3620.0"
      ]
     },
     "execution_count": 100,
     "metadata": {},
     "output_type": "execute_result"
    }
   ],
   "source": [
    "hour_by_hour.head()"
   ]
  },
  {
   "cell_type": "code",
   "execution_count": 101,
   "metadata": {
    "collapsed": true
   },
   "outputs": [],
   "source": [
    "start_date = date(2011, 4, 18) #change\n",
    "end_date = date(2011, 5, 25) #change\n",
    "get_dayhour(hour_by_hour, start_date, end_date, house_num) #dayhour for multiseries "
   ]
  },
  {
   "cell_type": "code",
   "execution_count": 102,
   "metadata": {
    "collapsed": true
   },
   "outputs": [],
   "source": [
    "#for heatmap\n",
    "basedate = datetime(2011, 4, 18, 0, 0, 0)\n",
    "hh_day_hour = hour_by_hour.copy()\n",
    "hh_day_hour.insert(loc=0, column='day', value=hh_day_hour.index.map(lambda x: (x.to_datetime() - basedate).days + 1))\n",
    "hh_day_hour.index = hh_day_hour.index.map(lambda x: pd.to_datetime(x).hour + 1)"
   ]
  },
  {
   "cell_type": "code",
   "execution_count": 103,
   "metadata": {},
   "outputs": [
    {
     "data": {
      "text/html": [
       "<div>\n",
       "<style>\n",
       "    .dataframe thead tr:only-child th {\n",
       "        text-align: right;\n",
       "    }\n",
       "\n",
       "    .dataframe thead th {\n",
       "        text-align: left;\n",
       "    }\n",
       "\n",
       "    .dataframe tbody tr th {\n",
       "        vertical-align: top;\n",
       "    }\n",
       "</style>\n",
       "<table border=\"1\" class=\"dataframe\">\n",
       "  <thead>\n",
       "    <tr style=\"text-align: right;\">\n",
       "      <th></th>\n",
       "      <th>day</th>\n",
       "      <th>refrigerator</th>\n",
       "      <th>dish</th>\n",
       "      <th>kitchen</th>\n",
       "      <th>lighting</th>\n",
       "      <th>washer</th>\n",
       "      <th>microwave</th>\n",
       "    </tr>\n",
       "    <tr>\n",
       "      <th>time_stamp</th>\n",
       "      <th></th>\n",
       "      <th></th>\n",
       "      <th></th>\n",
       "      <th></th>\n",
       "      <th></th>\n",
       "      <th></th>\n",
       "      <th></th>\n",
       "    </tr>\n",
       "  </thead>\n",
       "  <tbody>\n",
       "    <tr>\n",
       "      <th>7</th>\n",
       "      <td>1</td>\n",
       "      <td>3563.0</td>\n",
       "      <td>113.0</td>\n",
       "      <td>31959.0</td>\n",
       "      <td>98552.0</td>\n",
       "      <td>4.5</td>\n",
       "      <td>2662.0</td>\n",
       "    </tr>\n",
       "    <tr>\n",
       "      <th>8</th>\n",
       "      <td>1</td>\n",
       "      <td>134014.0</td>\n",
       "      <td>425.0</td>\n",
       "      <td>42840.0</td>\n",
       "      <td>96306.0</td>\n",
       "      <td>36.0</td>\n",
       "      <td>27448.0</td>\n",
       "    </tr>\n",
       "    <tr>\n",
       "      <th>9</th>\n",
       "      <td>1</td>\n",
       "      <td>116762.0</td>\n",
       "      <td>8.0</td>\n",
       "      <td>41431.0</td>\n",
       "      <td>78320.0</td>\n",
       "      <td>2.5</td>\n",
       "      <td>75297.0</td>\n",
       "    </tr>\n",
       "    <tr>\n",
       "      <th>10</th>\n",
       "      <td>1</td>\n",
       "      <td>54328.0</td>\n",
       "      <td>10.0</td>\n",
       "      <td>40392.0</td>\n",
       "      <td>45597.0</td>\n",
       "      <td>0.0</td>\n",
       "      <td>3732.0</td>\n",
       "    </tr>\n",
       "    <tr>\n",
       "      <th>11</th>\n",
       "      <td>1</td>\n",
       "      <td>46438.0</td>\n",
       "      <td>8.0</td>\n",
       "      <td>39124.0</td>\n",
       "      <td>2409.0</td>\n",
       "      <td>0.0</td>\n",
       "      <td>3620.0</td>\n",
       "    </tr>\n",
       "  </tbody>\n",
       "</table>\n",
       "</div>"
      ],
      "text/plain": [
       "            day  refrigerator   dish  kitchen  lighting  washer  microwave\n",
       "time_stamp                                                                \n",
       "7             1        3563.0  113.0  31959.0   98552.0     4.5     2662.0\n",
       "8             1      134014.0  425.0  42840.0   96306.0    36.0    27448.0\n",
       "9             1      116762.0    8.0  41431.0   78320.0     2.5    75297.0\n",
       "10            1       54328.0   10.0  40392.0   45597.0     0.0     3732.0\n",
       "11            1       46438.0    8.0  39124.0    2409.0     0.0     3620.0"
      ]
     },
     "execution_count": 103,
     "metadata": {},
     "output_type": "execute_result"
    }
   ],
   "source": [
    "hh_day_hour.head()"
   ]
  },
  {
   "cell_type": "code",
   "execution_count": 104,
   "metadata": {
    "scrolled": true
   },
   "outputs": [
    {
     "data": {
      "text/plain": [
       "Index(['refrigerator', 'dish', 'kitchen', 'lighting', 'washer', 'microwave'], dtype='object')"
      ]
     },
     "execution_count": 104,
     "metadata": {},
     "output_type": "execute_result"
    }
   ],
   "source": [
    "hour_by_hour.keys()"
   ]
  },
  {
   "cell_type": "code",
   "execution_count": 105,
   "metadata": {
    "collapsed": true
   },
   "outputs": [],
   "source": [
    "#oven_hh = hh_day_hour[['day', 'oven']]\n",
    "#oven_hh.name = 'oven_hh'\n",
    "\n",
    "refrigerator_hh = hh_day_hour[['day', 'refrigerator']]\n",
    "refrigerator_hh.name = 'refrigerator_hh'\n",
    "\n",
    "dishwasher_hh = hh_day_hour[['day', 'dish']]\n",
    "dishwasher_hh.name = 'dishwasher_hh'\n",
    "\n",
    "kitchen_hh = hh_day_hour[['day', 'kitchen']]\n",
    "kitchen_hh.name = 'kitchen_hh'\n",
    "\n",
    "lighting_hh = hh_day_hour[['day', 'lighting']]\n",
    "lighting_hh.name = 'lighting_hh'\n",
    "\n",
    "washer_hh = hh_day_hour[['day', 'washer']]\n",
    "washer_hh.name = 'washer_hh'\n",
    "\n",
    "microwave_hh = hh_day_hour[['day', 'microwave']]\n",
    "microwave_hh.name = 'microwave_hh'\n",
    "\n",
    "#elecheat_hh = hh_day_hour[['day', 'elecheat']]\n",
    "#elecheat_hh.name = 'elecheat'\n",
    "\n",
    "#stove_hh = hh_day_hour[['day', 'stove']]\n",
    "#stove_hh.name = 'stove_hh'"
   ]
  },
  {
   "cell_type": "raw",
   "metadata": {
    "collapsed": true
   },
   "source": [
    "#refrigerator, dishwasher, washer_dryer, elec_heat, stove house_6\n",
    "refrigerator_hh = hh_day_hour[['day', 'power_refrigerator']]\n",
    "dishwasher_hh = hh_day_hour[['day', 'power_dishwaser']]\n",
    "#microwave_hh = hh_day_hour[['day', 'power_microwave']]\n",
    "washer_dryer_hh = hh_day_hour[['day', 'power_washer_dryer']]\n",
    "electric_heat_hh = hh_day_hour[['day', 'power_electric_heat']]\n",
    "stove_hh = hh_day_hour[['day', 'power_stove']]\n",
    "\n",
    "refrigerator_hh.name = 'refrigerator_hh'\n",
    "dishwasher_hh.name = 'dishwasher_hh'\n",
    "#microwave_hh.name = 'microwave_hh'\n",
    "washer_dryer_hh.name = 'washer_dryer_hh'\n",
    "electric_heat_hh.name = 'electric_heat_hh'\n",
    "stove_hh.name = 'stove_hh'"
   ]
  },
  {
   "cell_type": "code",
   "execution_count": 106,
   "metadata": {
    "collapsed": true
   },
   "outputs": [],
   "source": [
    "df_list = [\n",
    "refrigerator_hh,\n",
    "dishwasher_hh,\n",
    "kitchen_hh,\n",
    "lighting_hh,\n",
    "washer_hh,\n",
    "microwave_hh]"
   ]
  },
  {
   "cell_type": "code",
   "execution_count": 108,
   "metadata": {
    "collapsed": true
   },
   "outputs": [],
   "source": [
    "to_csv(df_list, house_num) #for heatmap"
   ]
  },
  {
   "cell_type": "code",
   "execution_count": null,
   "metadata": {
    "collapsed": true
   },
   "outputs": [],
   "source": [
    "#stacked - data/    day_by_day\n",
    "#multiseries - data/house_{0}/dayhour\n",
    "#heatmap - data/house_{0}/hour_by_hour/ "
   ]
  },
  {
   "cell_type": "code",
   "execution_count": 142,
   "metadata": {},
   "outputs": [
    {
     "name": "stdout",
     "output_type": "stream",
     "text": [
      "dishwasher_hh.csv   lighting_hh.csv     refrigerator_hh.csv\r\n",
      "kitchen_hh.csv      microwave_hh.csv    washer_hh.csv\r\n"
     ]
    }
   ],
   "source": [
    "!ls data/house_1/hour_by_hour/"
   ]
  },
  {
   "cell_type": "code",
   "execution_count": 106,
   "metadata": {
    "collapsed": true
   },
   "outputs": [],
   "source": [
    "stats = day_by_day.describe()"
   ]
  },
  {
   "cell_type": "code",
   "execution_count": 133,
   "metadata": {
    "collapsed": true
   },
   "outputs": [],
   "source": [
    "stats = pd.DataFrame()"
   ]
  },
  {
   "cell_type": "code",
   "execution_count": 143,
   "metadata": {
    "collapsed": true
   },
   "outputs": [],
   "source": [
    "stats = refrigerator_hh.describe() + dishwasher_hh.describe() + kitchen_hh.describe() + lighting_hh.describe() + washer_hh.describe() + microwave_hh.describe()"
   ]
  },
  {
   "cell_type": "code",
   "execution_count": 156,
   "metadata": {
    "collapsed": true
   },
   "outputs": [],
   "source": [
    "stats = pd.concat([df.describe() for df in df_list], axis=1)"
   ]
  },
  {
   "cell_type": "code",
   "execution_count": 157,
   "metadata": {},
   "outputs": [
    {
     "data": {
      "text/html": [
       "<div>\n",
       "<style>\n",
       "    .dataframe thead tr:only-child th {\n",
       "        text-align: right;\n",
       "    }\n",
       "\n",
       "    .dataframe thead th {\n",
       "        text-align: left;\n",
       "    }\n",
       "\n",
       "    .dataframe tbody tr th {\n",
       "        vertical-align: top;\n",
       "    }\n",
       "</style>\n",
       "<table border=\"1\" class=\"dataframe\">\n",
       "  <thead>\n",
       "    <tr style=\"text-align: right;\">\n",
       "      <th></th>\n",
       "      <th>day</th>\n",
       "      <th>refrigerator</th>\n",
       "      <th>day</th>\n",
       "      <th>dish</th>\n",
       "      <th>day</th>\n",
       "      <th>kitchen</th>\n",
       "      <th>day</th>\n",
       "      <th>lighting</th>\n",
       "      <th>day</th>\n",
       "      <th>washer</th>\n",
       "      <th>day</th>\n",
       "      <th>microwave</th>\n",
       "    </tr>\n",
       "  </thead>\n",
       "  <tbody>\n",
       "    <tr>\n",
       "      <th>count</th>\n",
       "      <td>871.000000</td>\n",
       "      <td>803.000000</td>\n",
       "      <td>871.000000</td>\n",
       "      <td>803.000000</td>\n",
       "      <td>871.000000</td>\n",
       "      <td>8.030000e+02</td>\n",
       "      <td>871.000000</td>\n",
       "      <td>803.000000</td>\n",
       "      <td>871.000000</td>\n",
       "      <td>8.030000e+02</td>\n",
       "      <td>871.000000</td>\n",
       "      <td>803.000000</td>\n",
       "    </tr>\n",
       "    <tr>\n",
       "      <th>mean</th>\n",
       "      <td>19.185993</td>\n",
       "      <td>52679.383562</td>\n",
       "      <td>19.185993</td>\n",
       "      <td>22723.099626</td>\n",
       "      <td>19.185993</td>\n",
       "      <td>6.348367e+04</td>\n",
       "      <td>19.185993</td>\n",
       "      <td>71588.022416</td>\n",
       "      <td>19.185993</td>\n",
       "      <td>3.761713e+04</td>\n",
       "      <td>19.185993</td>\n",
       "      <td>19526.740971</td>\n",
       "    </tr>\n",
       "    <tr>\n",
       "      <th>std</th>\n",
       "      <td>10.487753</td>\n",
       "      <td>30534.957404</td>\n",
       "      <td>10.487753</td>\n",
       "      <td>101570.953402</td>\n",
       "      <td>10.487753</td>\n",
       "      <td>8.815885e+04</td>\n",
       "      <td>10.487753</td>\n",
       "      <td>56064.853462</td>\n",
       "      <td>10.487753</td>\n",
       "      <td>1.928948e+05</td>\n",
       "      <td>10.487753</td>\n",
       "      <td>51484.637902</td>\n",
       "    </tr>\n",
       "    <tr>\n",
       "      <th>min</th>\n",
       "      <td>1.000000</td>\n",
       "      <td>798.000000</td>\n",
       "      <td>1.000000</td>\n",
       "      <td>0.000000</td>\n",
       "      <td>1.000000</td>\n",
       "      <td>7.830000e+02</td>\n",
       "      <td>1.000000</td>\n",
       "      <td>53.000000</td>\n",
       "      <td>1.000000</td>\n",
       "      <td>0.000000e+00</td>\n",
       "      <td>1.000000</td>\n",
       "      <td>68.000000</td>\n",
       "    </tr>\n",
       "    <tr>\n",
       "      <th>25%</th>\n",
       "      <td>10.000000</td>\n",
       "      <td>38913.000000</td>\n",
       "      <td>10.000000</td>\n",
       "      <td>17.000000</td>\n",
       "      <td>10.000000</td>\n",
       "      <td>4.051050e+04</td>\n",
       "      <td>10.000000</td>\n",
       "      <td>33701.000000</td>\n",
       "      <td>10.000000</td>\n",
       "      <td>0.000000e+00</td>\n",
       "      <td>10.000000</td>\n",
       "      <td>3736.000000</td>\n",
       "    </tr>\n",
       "    <tr>\n",
       "      <th>50%</th>\n",
       "      <td>19.000000</td>\n",
       "      <td>50881.000000</td>\n",
       "      <td>19.000000</td>\n",
       "      <td>33.000000</td>\n",
       "      <td>19.000000</td>\n",
       "      <td>4.172200e+04</td>\n",
       "      <td>19.000000</td>\n",
       "      <td>76279.000000</td>\n",
       "      <td>19.000000</td>\n",
       "      <td>0.000000e+00</td>\n",
       "      <td>19.000000</td>\n",
       "      <td>3800.000000</td>\n",
       "    </tr>\n",
       "    <tr>\n",
       "      <th>75%</th>\n",
       "      <td>28.000000</td>\n",
       "      <td>63597.500000</td>\n",
       "      <td>28.000000</td>\n",
       "      <td>68.000000</td>\n",
       "      <td>28.000000</td>\n",
       "      <td>5.396300e+04</td>\n",
       "      <td>28.000000</td>\n",
       "      <td>102183.500000</td>\n",
       "      <td>28.000000</td>\n",
       "      <td>5.750000e+00</td>\n",
       "      <td>28.000000</td>\n",
       "      <td>4459.500000</td>\n",
       "    </tr>\n",
       "    <tr>\n",
       "      <th>max</th>\n",
       "      <td>37.000000</td>\n",
       "      <td>204278.000000</td>\n",
       "      <td>37.000000</td>\n",
       "      <td>714493.000000</td>\n",
       "      <td>37.000000</td>\n",
       "      <td>1.581727e+06</td>\n",
       "      <td>37.000000</td>\n",
       "      <td>327617.000000</td>\n",
       "      <td>37.000000</td>\n",
       "      <td>1.857414e+06</td>\n",
       "      <td>37.000000</td>\n",
       "      <td>900333.000000</td>\n",
       "    </tr>\n",
       "  </tbody>\n",
       "</table>\n",
       "</div>"
      ],
      "text/plain": [
       "              day   refrigerator         day           dish         day  \\\n",
       "count  871.000000     803.000000  871.000000     803.000000  871.000000   \n",
       "mean    19.185993   52679.383562   19.185993   22723.099626   19.185993   \n",
       "std     10.487753   30534.957404   10.487753  101570.953402   10.487753   \n",
       "min      1.000000     798.000000    1.000000       0.000000    1.000000   \n",
       "25%     10.000000   38913.000000   10.000000      17.000000   10.000000   \n",
       "50%     19.000000   50881.000000   19.000000      33.000000   19.000000   \n",
       "75%     28.000000   63597.500000   28.000000      68.000000   28.000000   \n",
       "max     37.000000  204278.000000   37.000000  714493.000000   37.000000   \n",
       "\n",
       "            kitchen         day       lighting         day        washer  \\\n",
       "count  8.030000e+02  871.000000     803.000000  871.000000  8.030000e+02   \n",
       "mean   6.348367e+04   19.185993   71588.022416   19.185993  3.761713e+04   \n",
       "std    8.815885e+04   10.487753   56064.853462   10.487753  1.928948e+05   \n",
       "min    7.830000e+02    1.000000      53.000000    1.000000  0.000000e+00   \n",
       "25%    4.051050e+04   10.000000   33701.000000   10.000000  0.000000e+00   \n",
       "50%    4.172200e+04   19.000000   76279.000000   19.000000  0.000000e+00   \n",
       "75%    5.396300e+04   28.000000  102183.500000   28.000000  5.750000e+00   \n",
       "max    1.581727e+06   37.000000  327617.000000   37.000000  1.857414e+06   \n",
       "\n",
       "              day      microwave  \n",
       "count  871.000000     803.000000  \n",
       "mean    19.185993   19526.740971  \n",
       "std     10.487753   51484.637902  \n",
       "min      1.000000      68.000000  \n",
       "25%     10.000000    3736.000000  \n",
       "50%     19.000000    3800.000000  \n",
       "75%     28.000000    4459.500000  \n",
       "max     37.000000  900333.000000  "
      ]
     },
     "execution_count": 157,
     "metadata": {},
     "output_type": "execute_result"
    }
   ],
   "source": [
    "stats"
   ]
  },
  {
   "cell_type": "code",
   "execution_count": 158,
   "metadata": {
    "collapsed": true
   },
   "outputs": [],
   "source": [
    "max_values = [204278.000000, 714493.000000, 1.581727e+06, 327617.000000, 1.857414e+06, 900333.000000]"
   ]
  },
  {
   "cell_type": "code",
   "execution_count": 160,
   "metadata": {},
   "outputs": [
    {
     "data": {
      "text/plain": [
       "327617.0"
      ]
     },
     "execution_count": 160,
     "metadata": {},
     "output_type": "execute_result"
    }
   ],
   "source": [
    "min(max_values[1:]) #327617.0"
   ]
  },
  {
   "cell_type": "raw",
   "metadata": {},
   "source": [
    "max_val = 320000\n",
    "min_val = 750 \n",
    "increments of 35000"
   ]
  },
  {
   "cell_type": "code",
   "execution_count": 165,
   "metadata": {},
   "outputs": [
    {
     "name": "stdout",
     "output_type": "stream",
     "text": [
      "750\n",
      "35750\n",
      "70750\n",
      "105750\n",
      "140750\n",
      "175750\n",
      "210750\n",
      "245750\n",
      "280750\n",
      "315750\n"
     ]
    }
   ],
   "source": [
    "for i in range(10):\n",
    "    print(750 + i*35000)"
   ]
  },
  {
   "cell_type": "code",
   "execution_count": 109,
   "metadata": {},
   "outputs": [
    {
     "name": "stdout",
     "output_type": "stream",
     "text": [
      "23 days, 0:00:00\n"
     ]
    }
   ],
   "source": [
    "basedate = datetime(2011, 4, 18, 0, 0, 0)\n",
    "otherdate = datetime(2011, 5, 11, 0, 0, 0)\n",
    "print(otherdate - basedate)"
   ]
  },
  {
   "cell_type": "code",
   "execution_count": 115,
   "metadata": {},
   "outputs": [
    {
     "name": "stdout",
     "output_type": "stream",
     "text": [
      "4 days, 0:00:00\n"
     ]
    }
   ],
   "source": [
    "basedate = datetime(2011, 4, 18, 0, 0, 0)\n",
    "otherdate = datetime(2011, 4, 22, 0, 0, 0)\n",
    "print(otherdate - basedate)"
   ]
  },
  {
   "cell_type": "code",
   "execution_count": 112,
   "metadata": {},
   "outputs": [
    {
     "data": {
      "text/plain": [
       "(17, 18)"
      ]
     },
     "execution_count": 112,
     "metadata": {},
     "output_type": "execute_result"
    }
   ],
   "source": [
    "17, 18"
   ]
  },
  {
   "cell_type": "code",
   "execution_count": null,
   "metadata": {
    "collapsed": true
   },
   "outputs": [],
   "source": []
  }
 ],
 "metadata": {
  "kernelspec": {
   "display_name": "Python 3",
   "language": "python",
   "name": "python3"
  },
  "language_info": {
   "codemirror_mode": {
    "name": "ipython",
    "version": 3
   },
   "file_extension": ".py",
   "mimetype": "text/x-python",
   "name": "python",
   "nbconvert_exporter": "python",
   "pygments_lexer": "ipython3",
   "version": "3.4.4"
  }
 },
 "nbformat": 4,
 "nbformat_minor": 2
}
